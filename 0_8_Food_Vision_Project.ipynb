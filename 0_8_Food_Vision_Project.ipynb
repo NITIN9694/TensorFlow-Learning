{
  "nbformat": 4,
  "nbformat_minor": 0,
  "metadata": {
    "colab": {
      "provenance": [],
      "gpuType": "T4",
      "authorship_tag": "ABX9TyNa86aoj3awMG7nu/cITQ/M",
      "include_colab_link": true
    },
    "kernelspec": {
      "name": "python3",
      "display_name": "Python 3"
    },
    "language_info": {
      "name": "python"
    },
    "accelerator": "GPU"
  },
  "cells": [
    {
      "cell_type": "markdown",
      "metadata": {
        "id": "view-in-github",
        "colab_type": "text"
      },
      "source": [
        "<a href=\"https://colab.research.google.com/github/NITIN9694/TensorFlow-Learning/blob/main/0_8_Food_Vision_Project.ipynb\" target=\"_parent\"><img src=\"https://colab.research.google.com/assets/colab-badge.svg\" alt=\"Open In Colab\"/></a>"
      ]
    },
    {
      "cell_type": "markdown",
      "source": [
        "#MileStone  Project 1 : Food Vision"
      ],
      "metadata": {
        "id": "l_hWOWtPYtCD"
      }
    },
    {
      "cell_type": "markdown",
      "source": [
        "##What we're going to cover\n",
        "\n",
        "\n",
        "* Using TensorFlow Datasets to download and explore data\n",
        "* Batching & preparing datasets for modelling (making our datasets run fast)\n",
        "* Creating modelling callbacks\n",
        "* Setting up mixed precision training\n",
        "* Building a feature extraction model (see transfer learning part 1: feature   extraction)\n",
        "*  Fine-tuning the feature extraction model (see transfer learning part 2: fine-tuning)\n",
        "*  Viewing training results on TensorBoard\n",
        "\n",
        "\n",
        "\n",
        "\n",
        "\n",
        "\n",
        "\n"
      ],
      "metadata": {
        "id": "Rg0wiqIj8sNJ"
      }
    },
    {
      "cell_type": "markdown",
      "source": [
        "##Check GPU\n",
        "Google collab offer free GPU\n",
        "\n",
        "Google collab offers:\n",
        "* K80 (not compatible)\n",
        "* P100 (not compatible)\n",
        "* Tesla T4 (not compatible)\n",
        "\n",
        "Knowing this, in order to use mixed precision training we need access to Tesla T4 or if we're using own hardware , Our Gpu need a score of 7.0+"
      ],
      "metadata": {
        "id": "SDwj7UBdZ8cQ"
      }
    },
    {
      "cell_type": "code",
      "execution_count": 1,
      "metadata": {
        "colab": {
          "base_uri": "https://localhost:8080/"
        },
        "id": "28NE_gFI7r_3",
        "outputId": "6626145e-273e-4b4b-f3e4-e826e7d42e55"
      },
      "outputs": [
        {
          "output_type": "stream",
          "name": "stdout",
          "text": [
            "GPU 0: Tesla T4 (UUID: GPU-2859378a-30a7-40e6-a435-e6cfa3e90689)\n"
          ]
        }
      ],
      "source": [
        "# Get GPU name\n",
        "!nvidia-smi -L"
      ]
    },
    {
      "cell_type": "code",
      "source": [
        "#Get helper funcation\n",
        "!wget https://raw.githubusercontent.com/mrdbourke/tensorflow-deep-learning/refs/heads/main/extras/helper_functions.py"
      ],
      "metadata": {
        "colab": {
          "base_uri": "https://localhost:8080/"
        },
        "id": "XDs3gskQbvlX",
        "outputId": "c2efdbc6-e620-4f07-8502-7209d1a25769"
      },
      "execution_count": 2,
      "outputs": [
        {
          "output_type": "stream",
          "name": "stdout",
          "text": [
            "--2025-10-02 10:20:06--  https://raw.githubusercontent.com/mrdbourke/tensorflow-deep-learning/refs/heads/main/extras/helper_functions.py\n",
            "Resolving raw.githubusercontent.com (raw.githubusercontent.com)... 185.199.109.133, 185.199.111.133, 185.199.108.133, ...\n",
            "Connecting to raw.githubusercontent.com (raw.githubusercontent.com)|185.199.109.133|:443... connected.\n",
            "HTTP request sent, awaiting response... 200 OK\n",
            "Length: 10246 (10K) [text/plain]\n",
            "Saving to: ‘helper_functions.py’\n",
            "\n",
            "\rhelper_functions.py   0%[                    ]       0  --.-KB/s               \rhelper_functions.py 100%[===================>]  10.01K  --.-KB/s    in 0s      \n",
            "\n",
            "2025-10-02 10:20:06 (21.1 MB/s) - ‘helper_functions.py’ saved [10246/10246]\n",
            "\n"
          ]
        }
      ]
    },
    {
      "cell_type": "code",
      "source": [
        "#Import series of helper funcation\n",
        "from helper_functions import create_tensorboard_callback, plot_loss_curves, compare_historys"
      ],
      "metadata": {
        "id": "7zVsWQ2vb6kw"
      },
      "execution_count": 3,
      "outputs": []
    },
    {
      "cell_type": "markdown",
      "source": [
        "#Use Tensorflow Dataset to Download Data\n",
        "more info (https://www.tensorflow.org/datasets/dataset_collections)"
      ],
      "metadata": {
        "id": "pxoSFfVacWmd"
      }
    },
    {
      "cell_type": "code",
      "source": [
        "#Get the dataset\n",
        "import tensorflow_datasets as tfds"
      ],
      "metadata": {
        "id": "bs-EHH0mcMmv"
      },
      "execution_count": 4,
      "outputs": []
    },
    {
      "cell_type": "code",
      "source": [
        "#Get list of dataset\n",
        "datasets_list = tfds.list_builders()\n",
        "print(\"food101\" in datasets_list)"
      ],
      "metadata": {
        "colab": {
          "base_uri": "https://localhost:8080/"
        },
        "id": "5royTQuHe8fq",
        "outputId": "7f6ed1f0-b3ff-4945-d503-087a500aca85"
      },
      "execution_count": 6,
      "outputs": [
        {
          "output_type": "stream",
          "name": "stdout",
          "text": [
            "True\n"
          ]
        }
      ]
    },
    {
      "cell_type": "code",
      "source": [
        "#Load data set its 4GB Data\n",
        "(train_data,test_data), ds_info = tfds.load(\n",
        "    name = \"food101\",\n",
        "    split = [\"train\",\"validation\"],\n",
        "    shuffle_files = True,\n",
        "    as_supervised = True, #data gets returned in tuple formate(data, label)\n",
        "    with_info = True\n",
        "\n",
        ")"
      ],
      "metadata": {
        "id": "_1-Myl36fNRO"
      },
      "execution_count": null,
      "outputs": []
    }
  ]
}